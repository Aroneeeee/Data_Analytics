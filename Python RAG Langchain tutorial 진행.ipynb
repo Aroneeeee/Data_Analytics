{
 "cells": [
  {
   "cell_type": "markdown",
   "id": "263becb4-8761-41c9-af8f-893734f607cf",
   "metadata": {},
   "source": [
    "# Hugging Face Enbedding 모델 적용 "
   ]
  },
  {
   "cell_type": "code",
   "execution_count": 3,
   "id": "1222a57d-d3b8-4f08-8d4a-98efb88236d6",
   "metadata": {},
   "outputs": [
    {
     "name": "stderr",
     "output_type": "stream",
     "text": [
      "huggingface/tokenizers: The current process just got forked, after parallelism has already been used. Disabling parallelism to avoid deadlocks...\n",
      "To disable this warning, you can either:\n",
      "\t- Avoid using `tokenizers` before the fork if possible\n",
      "\t- Explicitly set the environment variable TOKENIZERS_PARALLELISM=(true | false)\n"
     ]
    },
    {
     "name": "stdout",
     "output_type": "stream",
     "text": [
      "Defaulting to user installation because normal site-packages is not writeable\n",
      "Collecting faiss-cpu\n",
      "  Downloading faiss_cpu-1.9.0.post1-cp39-cp39-macosx_11_0_arm64.whl.metadata (4.4 kB)\n",
      "Requirement already satisfied: numpy<3.0,>=1.25.0 in ./Library/Python/3.9/lib/python/site-packages (from faiss-cpu) (1.26.4)\n",
      "Requirement already satisfied: packaging in ./Library/Python/3.9/lib/python/site-packages (from faiss-cpu) (24.2)\n",
      "Downloading faiss_cpu-1.9.0.post1-cp39-cp39-macosx_11_0_arm64.whl (3.2 MB)\n",
      "\u001b[2K   \u001b[90m━━━━━━━━━━━━━━━━━━━━━━━━━━━━━━━━━━━━━━━━\u001b[0m \u001b[32m3.2/3.2 MB\u001b[0m \u001b[31m10.9 MB/s\u001b[0m eta \u001b[36m0:00:00\u001b[0ma \u001b[36m0:00:01\u001b[0m\n",
      "\u001b[?25hInstalling collected packages: faiss-cpu\n",
      "Successfully installed faiss-cpu-1.9.0.post1\n",
      "Note: you may need to restart the kernel to use updated packages.\n"
     ]
    }
   ],
   "source": [
    "pip install faiss-cpu"
   ]
  },
  {
   "cell_type": "code",
   "execution_count": 4,
   "id": "4662bd9a-ac83-4b14-ad9b-9e3ddfa53fbe",
   "metadata": {},
   "outputs": [
    {
     "name": "stdout",
     "output_type": "stream",
     "text": [
      "'sentence-transformers/all-MiniLM-L6-v2' 임베딩 모델로 벡터화 완료!\n",
      "검색 결과:\n",
      "배송이 너무 느립니다.\n",
      "가성비가 뛰어난 제품입니다.\n"
     ]
    }
   ],
   "source": [
    "from langchain.embeddings import HuggingFaceEmbeddings\n",
    "from langchain.vectorstores import FAISS\n",
    "\n",
    "# Hugging Face Embedding 모델 로드\n",
    "embedding_model_name = \"sentence-transformers/all-MiniLM-L6-v2\"  # 변경 가능\n",
    "embeddings = HuggingFaceEmbeddings(model_name=embedding_model_name)\n",
    "\n",
    "# 샘플 데이터\n",
    "texts = [\n",
    "    \"이 제품은 훌륭합니다.\",\n",
    "    \"배송이 너무 느립니다.\",\n",
    "    \"가성비가 뛰어난 제품입니다.\",\n",
    "    \"제품 품질이 좋지만 가격이 비쌉니다.\",\n",
    "    \"배송이 빠르고 제품이 좋습니다.\"\n",
    "]\n",
    "\n",
    "# 텍스트 데이터를 벡터화하여 벡터 저장소 생성\n",
    "vector_store = FAISS.from_texts(texts, embeddings)\n",
    "print(f\"'{embedding_model_name}' 임베딩 모델로 벡터화 완료!\")\n",
    "\n",
    "# 검색 테스트\n",
    "query = \"배송 속도는 어떤가요?\"\n",
    "results = vector_store.similarity_search(query, k=2)\n",
    "print(\"검색 결과:\")\n",
    "for result in results:\n",
    "    print(result.page_content)"
   ]
  },
  {
   "cell_type": "markdown",
   "id": "43ca5096-7a98-4af1-a781-7916160543f5",
   "metadata": {},
   "source": [
    "# Hugging Face Text Generation 모델 적용"
   ]
  },
  {
   "cell_type": "code",
   "execution_count": 9,
   "id": "424b868b-a9b4-48ea-9d7f-0b357d183d5e",
   "metadata": {},
   "outputs": [
    {
     "name": "stderr",
     "output_type": "stream",
     "text": [
      "huggingface/tokenizers: The current process just got forked, after parallelism has already been used. Disabling parallelism to avoid deadlocks...\n",
      "To disable this warning, you can either:\n",
      "\t- Avoid using `tokenizers` before the fork if possible\n",
      "\t- Explicitly set the environment variable TOKENIZERS_PARALLELISM=(true | false)\n"
     ]
    },
    {
     "name": "stdout",
     "output_type": "stream",
     "text": [
      "Defaulting to user installation because normal site-packages is not writeable\n",
      "Looking in indexes: https://download.pytorch.org/whl/cpu\n",
      "Requirement already satisfied: torch in ./Library/Python/3.9/lib/python/site-packages (2.5.1)\n",
      "Requirement already satisfied: torchvision in ./Library/Python/3.9/lib/python/site-packages (0.20.1)\n",
      "Requirement already satisfied: torchaudio in ./Library/Python/3.9/lib/python/site-packages (2.5.1)\n",
      "Requirement already satisfied: filelock in ./Library/Python/3.9/lib/python/site-packages (from torch) (3.16.1)\n",
      "Requirement already satisfied: typing-extensions>=4.8.0 in ./Library/Python/3.9/lib/python/site-packages (from torch) (4.12.2)\n",
      "Requirement already satisfied: networkx in ./Library/Python/3.9/lib/python/site-packages (from torch) (3.2.1)\n",
      "Requirement already satisfied: jinja2 in ./Library/Python/3.9/lib/python/site-packages (from torch) (3.1.4)\n",
      "Requirement already satisfied: fsspec in ./Library/Python/3.9/lib/python/site-packages (from torch) (2024.10.0)\n",
      "Requirement already satisfied: sympy==1.13.1 in ./Library/Python/3.9/lib/python/site-packages (from torch) (1.13.1)\n",
      "Requirement already satisfied: mpmath<1.4,>=1.1.0 in ./Library/Python/3.9/lib/python/site-packages (from sympy==1.13.1->torch) (1.3.0)\n",
      "Requirement already satisfied: numpy in ./Library/Python/3.9/lib/python/site-packages (from torchvision) (1.26.4)\n",
      "Requirement already satisfied: pillow!=8.3.*,>=5.3.0 in ./Library/Python/3.9/lib/python/site-packages (from torchvision) (11.0.0)\n",
      "Requirement already satisfied: MarkupSafe>=2.0 in ./Library/Python/3.9/lib/python/site-packages (from jinja2->torch) (3.0.2)\n",
      "Note: you may need to restart the kernel to use updated packages.\n"
     ]
    }
   ],
   "source": [
    "pip install torch torchvision torchaudio --index-url https://download.pytorch.org/whl/cpu"
   ]
  },
  {
   "cell_type": "code",
   "execution_count": null,
   "id": "69575fac-57b9-488c-a9a8-2c64703d08a0",
   "metadata": {},
   "outputs": [
    {
     "name": "stderr",
     "output_type": "stream",
     "text": [
      "Setting `pad_token_id` to `eos_token_id`:None for open-end generation.\n"
     ]
    }
   ],
   "source": [
    "from transformers import pipeline\n",
    "import torch\n",
    "\n",
    "# Hugging Face Text Generation 모델 로드\n",
    "text_generation_model_name = \"gpt2\"\n",
    "text_gen_pipeline = pipeline(\n",
    "    \"text-generation\",\n",
    "    model=text_generation_model_name,\n",
    "    torch_dtype=torch.float16,\n",
    "    device_map=\"auto\"\n",
    ")\n",
    "\n",
    "# 입력 텍스트\n",
    "input_text = \"배송이 느린 경우 고객에게 어떻게 대응하면 좋을까요?\"\n",
    "\n",
    "# 텍스트 생성\n",
    "generated_text = text_gen_pipeline(\n",
    "    input_text,\n",
    "    max_new_tokens=20,  # 생성할 새 토큰 수 설정\n",
    "    num_return_sequences=1\n",
    ")\n",
    "print(\"생성된 텍스트:\")\n",
    "print(generated_text[0][\"generated_text\"])"
   ]
  }
 ],
 "metadata": {
  "kernelspec": {
   "display_name": "Python 3 (ipykernel)",
   "language": "python",
   "name": "python3"
  },
  "language_info": {
   "codemirror_mode": {
    "name": "ipython",
    "version": 3
   },
   "file_extension": ".py",
   "mimetype": "text/x-python",
   "name": "python",
   "nbconvert_exporter": "python",
   "pygments_lexer": "ipython3",
   "version": "3.9.6"
  }
 },
 "nbformat": 4,
 "nbformat_minor": 5
}
